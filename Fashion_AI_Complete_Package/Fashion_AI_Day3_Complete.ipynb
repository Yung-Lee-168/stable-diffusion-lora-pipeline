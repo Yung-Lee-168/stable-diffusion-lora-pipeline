{
 "cells": [
  {
   "cell_type": "markdown",
   "id": "96a64e45",
   "metadata": {},
   "source": [
    "# 🎨 Day 3: Fashion AI Training - 完整版本\n",
    "\n",
    "這是一個完整的 Fashion AI 訓練流程，包含：\n",
    "- 🔧 自動環境設置和依賴修復\n",
    "- 📊 FashionCLIP 特徵分析\n",
    "- 🎯 Stable Diffusion 微調訓練\n",
    "- 💾 模型保存與下載\n",
    "\n",
    "## 📋 使用說明\n",
    "1. 確保已啟用 GPU (Runtime > Change runtime type > GPU)\n",
    "2. 按順序執行每個單元格\n",
    "3. 如遇到依賴衝突，請重新啟動運行時並重新執行\n",
    "\n",
    "## ⚠️ 注意事項\n",
    "- 首次運行需要約 10-15 分鐘安裝依賴\n",
    "- 建議使用 GPU 運行時以提高訓練速度\n",
    "- 如果遇到錯誤，請檢查 GPU 是否已啟用"
   ]
  },
  {
   "cell_type": "markdown",
   "id": "e16e2cd5",
   "metadata": {},
   "source": [
    "## 🔧 步驟 1: 環境檢查與設置"
   ]
  },
  {
   "cell_type": "code",
   "execution_count": null,
   "id": "355fe1d8",
   "metadata": {},
   "outputs": [],
   "source": [
    "# 檢查運行環境\n",
    "import sys\n",
    "import os\n",
    "import subprocess\n",
    "\n",
    "print(\"🔍 檢查運行環境...\")\n",
    "print(f\"Python 版本: {sys.version}\")\n",
    "print(f\"當前目錄: {os.getcwd()}\")\n",
    "\n",
    "# 檢查 GPU\n",
    "try:\n",
    "    result = subprocess.run(['nvidia-smi'], capture_output=True, text=True)\n",
    "    if result.returncode == 0:\n",
    "        print(\"✅ GPU 已啟用\")\n",
    "    else:\n",
    "        print(\"⚠️ GPU 未啟用，建議啟用 GPU 運行時\")\n",
    "except:\n",
    "    print(\"⚠️ 無法檢查 GPU 狀態\")\n",
    "\n",
    "# 檢查是否在 Colab 中\n",
    "IN_COLAB = 'google.colab' in sys.modules\n",
    "print(f\"運行環境: {'Google Colab' if IN_COLAB else 'Local'}\")"
   ]
  },
  {
   "cell_type": "markdown",
   "id": "a1c8598e",
   "metadata": {},
   "source": [
    "## 📦 步驟 2: 下載並執行完整腳本"
   ]
  },
  {
   "cell_type": "code",
   "execution_count": null,
   "id": "7e43e7c8",
   "metadata": {},
   "outputs": [],
   "source": [
    "# 下載完整的 Fashion AI 腳本\n",
    "print(\"📥 下載 Fashion AI 訓練腳本...\")\n",
    "\n",
    "# 這裡可以從 GitHub 或其他來源下載\n",
    "# 目前我們直接使用本地腳本內容\n",
    "\n",
    "script_content = '''\n",
    "# 這裡將包含完整的 day3_colab_finetuning.py 內容\n",
    "# 由於內容較長，我們在下一個單元格中定義主要功能\n",
    "'''\n",
    "\n",
    "print(\"✅ 腳本準備完成\")"
   ]
  },
  {
   "cell_type": "markdown",
   "id": "da4348d2",
   "metadata": {},
   "source": [
    "## 🚀 步驟 3: 執行 Fashion AI 訓練"
   ]
  },
  {
   "cell_type": "code",
   "execution_count": null,
   "id": "178bb115",
   "metadata": {},
   "outputs": [],
   "source": [
    "# 執行完整的 Fashion AI 訓練腳本\n",
    "# 您可以將 day3_colab_finetuning.py 的內容複製到此處\n",
    "# 或者上傳該文件並執行\n",
    "\n",
    "print(\"🎨 開始 Fashion AI 訓練...\")\n",
    "print(\"請將 day3_colab_finetuning.py 的內容複製到此單元格中\")\n",
    "print(\"或者使用以下方式上傳文件:\")\n",
    "\n",
    "if IN_COLAB:\n",
    "    from google.colab import files\n",
    "    print(\"📤 上傳 day3_colab_finetuning.py 文件:\")\n",
    "    uploaded = files.upload()\n",
    "    \n",
    "    if 'day3_colab_finetuning.py' in uploaded:\n",
    "        print(\"✅ 文件上傳成功，開始執行...\")\n",
    "        exec(open('day3_colab_finetuning.py').read())\n",
    "    else:\n",
    "        print(\"❌ 請上傳 day3_colab_finetuning.py 文件\")\n",
    "else:\n",
    "    print(\"💡 請確保 day3_colab_finetuning.py 在當前目錄中\")"
   ]
  },
  {
   "cell_type": "markdown",
   "id": "a1273348",
   "metadata": {},
   "source": [
    "## 🎯 步驟 4: 快速測試模式"
   ]
  },
  {
   "cell_type": "code",
   "execution_count": null,
   "id": "48af694e",
   "metadata": {},
   "outputs": [],
   "source": [
    "# 快速測試 - 檢查環境是否正常\n",
    "print(\"🔧 快速測試模式\")\n",
    "print(\"=\" * 40)\n",
    "\n",
    "try:\n",
    "    # 測試基本導入\n",
    "    import torch\n",
    "    import torchvision\n",
    "    import transformers\n",
    "    \n",
    "    print(f\"✅ PyTorch: {torch.__version__}\")\n",
    "    print(f\"✅ Torchvision: {torchvision.__version__}\")\n",
    "    print(f\"✅ Transformers: {transformers.__version__}\")\n",
    "    \n",
    "    # 測試 GPU\n",
    "    if torch.cuda.is_available():\n",
    "        print(f\"✅ CUDA 可用: {torch.cuda.get_device_name(0)}\")\n",
    "    else:\n",
    "        print(\"⚠️ CUDA 不可用，將使用 CPU\")\n",
    "    \n",
    "    print(\"\\n🎉 環境檢查完成，可以開始訓練！\")\n",
    "    \n",
    "except ImportError as e:\n",
    "    print(f\"❌ 導入錯誤: {e}\")\n",
    "    print(\"請重新啟動運行時並重新安裝依賴\")\n",
    "    \n",
    "except Exception as e:\n",
    "    print(f\"❌ 其他錯誤: {e}\")"
   ]
  },
  {
   "cell_type": "markdown",
   "id": "5d2229ab",
   "metadata": {},
   "source": [
    "## 💾 步驟 5: 結果下載"
   ]
  },
  {
   "cell_type": "code",
   "execution_count": null,
   "id": "e2db592f",
   "metadata": {},
   "outputs": [],
   "source": [
    "# 下載訓練結果\n",
    "print(\"📦 準備下載訓練結果...\")\n",
    "\n",
    "if IN_COLAB:\n",
    "    from google.colab import files\n",
    "    import os\n",
    "    \n",
    "    # 檢查是否有訓練結果\n",
    "    if os.path.exists('fashion_ai_results.zip'):\n",
    "        print(\"📤 下載訓練結果...\")\n",
    "        files.download('fashion_ai_results.zip')\n",
    "        print(\"✅ 下載完成\")\n",
    "    else:\n",
    "        print(\"❌ 沒有找到訓練結果文件\")\n",
    "        print(\"請確保已完成訓練步驟\")\n",
    "else:\n",
    "    print(\"💡 本地環境，結果已保存在當前目錄\")"
   ]
  },
  {
   "cell_type": "markdown",
   "id": "7036aa65",
   "metadata": {},
   "source": [
    "## 🆘 故障排除\n",
    "\n",
    "### 常見問題與解決方案\n",
    "\n",
    "1. **依賴衝突**\n",
    "   - 重新啟動運行時 (Runtime > Restart runtime)\n",
    "   - 重新執行所有單元格\n",
    "\n",
    "2. **GPU 相關錯誤**\n",
    "   - 確認已啟用 GPU 運行時\n",
    "   - 檢查 GPU 記憶體使用情況\n",
    "\n",
    "3. **模型下載失敗**\n",
    "   - 檢查網路連接\n",
    "   - 重新執行相關單元格\n",
    "\n",
    "4. **記憶體不足**\n",
    "   - 減少 batch_size\n",
    "   - 使用更小的模型\n",
    "\n",
    "### 取得支援\n",
    "如果遇到其他問題，請參考：\n",
    "- 📖 [完整說明文檔](README.md)\n",
    "- 🔧 [安裝指南](INSTALLATION_GUIDE.md)\n",
    "- 🐛 [依賴修復指南](COLAB_DEPENDENCY_FIX.md)"
   ]
  }
 ],
 "metadata": {
  "language_info": {
   "name": "python"
  }
 },
 "nbformat": 4,
 "nbformat_minor": 5
}
