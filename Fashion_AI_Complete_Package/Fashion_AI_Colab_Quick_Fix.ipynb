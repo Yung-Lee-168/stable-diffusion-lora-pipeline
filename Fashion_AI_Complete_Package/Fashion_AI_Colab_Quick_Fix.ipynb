{
 "cells": [
  {
   "cell_type": "markdown",
   "id": "34fc35dc",
   "metadata": {},
   "source": [
    "# 🎨 Day 3: Fashion AI Training - 快速修復版\n",
    "\n",
    "## 📋 使用說明\n",
    "1. 直接執行所有 cells\n",
    "2. 系統會自動修復依賴衝突\n",
    "3. 完成後會提示重新啟動運行時\n",
    "4. 重新啟動後，從「開始訓練」部分繼續執行\n",
    "\n",
    "## ⚠️ 重要提醒\n",
    "- 第一次執行後需要重新啟動運行時\n",
    "- 重新啟動後再執行訓練部分\n",
    "- 建議使用 GPU 運行時 (Runtime > Change runtime type > GPU)"
   ]
  },
  {
   "cell_type": "markdown",
   "id": "f047640b",
   "metadata": {},
   "source": [
    "## 🔧 步驟 1: 依賴修復（只需執行一次）"
   ]
  },
  {
   "cell_type": "code",
   "execution_count": null,
   "id": "1b3c9231",
   "metadata": {},
   "outputs": [],
   "source": [
    "# 一鍵修復所有依賴衝突\n",
    "print(\"🔧 開始修復 Colab 依賴衝突...\")\n",
    "\n",
    "import subprocess\n",
    "import sys\n",
    "\n",
    "# 1. 深度清理衝突套件\n",
    "print(\"🗑️ 清理衝突套件...\")\n",
    "conflicting_packages = [\n",
    "    \"sentence-transformers\", \"transformers\", \"torch\", \n",
    "    \"torchvision\", \"torchaudio\", \"fastai\"\n",
    "]\n",
    "\n",
    "for package in conflicting_packages:\n",
    "    try:\n",
    "        subprocess.run([sys.executable, \"-m\", \"pip\", \"uninstall\", \"-y\", package], \n",
    "                      capture_output=True, text=True)\n",
    "        print(f\"   ✅ 已移除 {package}\")\n",
    "    except:\n",
    "        pass\n",
    "\n",
    "# 2. 安裝穩定版本的 PyTorch\n",
    "print(\"📦 安裝穩定版本的 PyTorch...\")\n",
    "!pip install torch==2.1.0+cu118 torchvision==0.16.0+cu118 torchaudio==2.1.0+cu118 \\\n",
    "    --index-url https://download.pytorch.org/whl/cu118 --force-reinstall\n",
    "\n",
    "# 3. 安裝兼容版本的其他套件\n",
    "print(\"📦 安裝其他必要套件...\")\n",
    "!pip install transformers>=4.41.0 diffusers[torch] accelerate peft packaging\n",
    "\n",
    "# 4. 安裝可選套件\n",
    "print(\"📦 安裝可選套件...\")\n",
    "!pip install matplotlib seaborn numpy pillow scikit-learn\n",
    "\n",
    "# 5. 重新安裝 sentence-transformers\n",
    "print(\"📦 重新安裝 sentence-transformers...\")\n",
    "!pip install sentence-transformers\n",
    "\n",
    "# 6. 嘗試安裝 xformers\n",
    "print(\"📦 嘗試安裝 xformers...\")\n",
    "try:\n",
    "    !pip install xformers==0.0.22.post7 --index-url https://download.pytorch.org/whl/cu118\n",
    "    print(\"✅ xformers 安裝成功\")\n",
    "except:\n",
    "    print(\"⚠️ xformers 安裝失敗（可選）\")\n",
    "\n",
    "print(\"\\n✅ 依賴修復完成！\")\n",
    "print(\"🔄 請重新啟動運行時: Runtime > Restart runtime\")\n",
    "print(\"🚀 重新啟動後，直接跳到下面的 '開始訓練' 部分執行\")"
   ]
  },
  {
   "cell_type": "markdown",
   "id": "fd5a3b2f",
   "metadata": {},
   "source": [
    "## ⚠️ 重要：請重新啟動運行時\n",
    "\n",
    "執行完上面的依賴修復後，請：\n",
    "1. 點擊 **Runtime > Restart runtime**\n",
    "2. 重新啟動完成後，直接跳到下面的「開始訓練」部分\n",
    "3. 不要重新執行上面的依賴修復部分"
   ]
  },
  {
   "cell_type": "markdown",
   "id": "dd17a90e",
   "metadata": {},
   "source": [
    "## 🚀 開始訓練（重新啟動後執行此部分）"
   ]
  },
  {
   "cell_type": "code",
   "execution_count": null,
   "id": "8e4589ff",
   "metadata": {},
   "outputs": [],
   "source": [
    "# 載入完整的訓練程式碼\n",
    "exec(open('day3_colab_finetuning.py').read())\n",
    "\n",
    "# 或者直接貼上修復後的程式碼\n",
    "# 這裡會載入完整的 Fashion AI 訓練系統"
   ]
  },
  {
   "cell_type": "code",
   "execution_count": null,
   "id": "c245af81",
   "metadata": {},
   "outputs": [],
   "source": [
    "# 執行主要訓練流程\n",
    "if __name__ == \"__main__\":\n",
    "    main()"
   ]
  },
  {
   "cell_type": "markdown",
   "id": "08fb8f74",
   "metadata": {},
   "source": [
    "## 📋 手動操作步驟\n",
    "\n",
    "如果自動執行遇到問題，可以手動執行以下步驟：\n",
    "\n",
    "### 1. 初始化訓練器\n",
    "```python\n",
    "trainer = FashionSDFineTuner()\n",
    "```\n",
    "\n",
    "### 2. 上傳訓練圖片\n",
    "```python\n",
    "image_paths = trainer.upload_training_images()\n",
    "```\n",
    "\n",
    "### 3. 提取特徵\n",
    "```python\n",
    "captions = trainer.extract_features_from_images(image_paths)\n",
    "```\n",
    "\n",
    "### 4. 準備數據集\n",
    "```python\n",
    "dataloader = trainer.prepare_dataset(image_paths, captions)\n",
    "```\n",
    "\n",
    "### 5. 開始訓練\n",
    "```python\n",
    "trainer.train(dataloader)\n",
    "```\n",
    "\n",
    "### 6. 創建下載包\n",
    "```python\n",
    "trainer.create_download_package()\n",
    "```"
   ]
  }
 ],
 "metadata": {
  "language_info": {
   "name": "python"
  }
 },
 "nbformat": 4,
 "nbformat_minor": 5
}
