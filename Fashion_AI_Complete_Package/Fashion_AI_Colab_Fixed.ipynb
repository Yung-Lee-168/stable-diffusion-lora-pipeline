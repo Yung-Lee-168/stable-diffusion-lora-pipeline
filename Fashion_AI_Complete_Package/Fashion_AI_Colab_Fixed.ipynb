{
 "cells": [
  {
   "cell_type": "markdown",
   "id": "41b05c7d",
   "metadata": {},
   "source": [
    "# Fashion AI Training - Google Colab 版本 (修復依賴衝突)\n",
    "\n",
    "## 🔧 專為解決 Colab 依賴衝突設計\n",
    "\n",
    "此 Notebook 會自動處理 `sentence-transformers` 和 `transformers` 版本衝突問題。\n",
    "\n",
    "### 📋 使用步驟:\n",
    "1. 按順序執行每個 cell\n",
    "2. 在依賴安裝完成後重新啟動運行時\n",
    "3. 上傳訓練圖片\n",
    "4. 開始訓練\n",
    "\n",
    "### 💡 提示:\n",
    "- 確保已啟用 GPU (Runtime > Change runtime type > GPU)\n",
    "- 建議使用 T4 或更高等級的 GPU\n",
    "- 訓練時間約 30-60 分鐘"
   ]
  },
  {
   "cell_type": "markdown",
   "id": "4d78dddc",
   "metadata": {},
   "source": [
    "## 🔧 步驟 1: 修復依賴衝突\n",
    "\n",
    "**重要**: 執行此 cell 後請重新啟動運行時 (Runtime > Restart runtime)"
   ]
  },
  {
   "cell_type": "code",
   "execution_count": null,
   "id": "a22e6c35",
   "metadata": {},
   "outputs": [],
   "source": [
    "# 修復 Colab 依賴衝突\n",
    "print(\"🔧 正在修復 Google Colab 依賴衝突...\")\n",
    "\n",
    "# 1. 卸載衝突套件\n",
    "!pip uninstall -y sentence-transformers transformers\n",
    "\n",
    "# 2. 安裝兼容版本\n",
    "!pip install transformers>=4.41.0 --force-reinstall\n",
    "\n",
    "# 3. 安裝核心套件\n",
    "!pip install diffusers[torch] accelerate peft packaging\n",
    "\n",
    "# 4. 重新安裝 sentence-transformers\n",
    "!pip install sentence-transformers\n",
    "\n",
    "# 5. 嘗試安裝 xformers (可選)\n",
    "!pip install xformers --index-url https://download.pytorch.org/whl/cu118\n",
    "\n",
    "print(\"✅ 依賴修復完成！\")\n",
    "print(\"🔄 請重新啟動運行時 (Runtime > Restart runtime)，然後執行下一個 cell\")"
   ]
  },
  {
   "cell_type": "markdown",
   "id": "e819b254",
   "metadata": {},
   "source": [
    "## ✅ 步驟 2: 檢查安裝\n",
    "\n",
    "**重新啟動運行時後**，執行此 cell 檢查套件是否正確安裝"
   ]
  },
  {
   "cell_type": "code",
   "execution_count": null,
   "id": "fa633eb0",
   "metadata": {},
   "outputs": [],
   "source": [
    "# 檢查套件版本\n",
    "import torch\n",
    "import transformers\n",
    "import diffusers\n",
    "\n",
    "print(\"📋 套件版本檢查:\")\n",
    "print(f\"   torch: {torch.__version__}\")\n",
    "print(f\"   transformers: {transformers.__version__}\")\n",
    "print(f\"   diffusers: {diffusers.__version__}\")\n",
    "\n",
    "# 檢查 GPU\n",
    "if torch.cuda.is_available():\n",
    "    gpu_name = torch.cuda.get_device_name(0)\n",
    "    gpu_memory = torch.cuda.get_device_properties(0).total_memory / 1e9\n",
    "    print(f\"\\n🔧 GPU: {gpu_name}\")\n",
    "    print(f\"💾 VRAM: {gpu_memory:.1f} GB\")\n",
    "else:\n",
    "    print(\"❌ 沒有可用的 GPU\")\n",
    "\n",
    "# 測試導入\n",
    "try:\n",
    "    from diffusers import StableDiffusionPipeline\n",
    "    from peft import LoraConfig\n",
    "    print(\"\\n✅ 所有套件導入成功\")\n",
    "except ImportError as e:\n",
    "    print(f\"❌ 導入失敗: {e}\")"
   ]
  },
  {
   "cell_type": "markdown",
   "id": "02091022",
   "metadata": {},
   "source": [
    "## 📁 步驟 3: 掛載 Google Drive"
   ]
  },
  {
   "cell_type": "code",
   "execution_count": null,
   "id": "5552de47",
   "metadata": {},
   "outputs": [],
   "source": [
    "from google.colab import drive\n",
    "import os\n",
    "\n",
    "# 掛載 Google Drive\n",
    "drive.mount('/content/drive')\n",
    "\n",
    "# 創建工作目錄\n",
    "work_dir = \"/content/drive/MyDrive/fashion_ai_training\"\n",
    "os.makedirs(work_dir, exist_ok=True)\n",
    "os.chdir(work_dir)\n",
    "\n",
    "print(f\"📁 工作目錄: {work_dir}\")\n",
    "print(\"✅ Google Drive 已掛載\")"
   ]
  },
  {
   "cell_type": "markdown",
   "id": "6baab444",
   "metadata": {},
   "source": [
    "## 📤 步驟 4: 上傳訓練圖片"
   ]
  },
  {
   "cell_type": "code",
   "execution_count": null,
   "id": "b3de93d5",
   "metadata": {},
   "outputs": [],
   "source": [
    "from google.colab import files\n",
    "import os\n",
    "\n",
    "print(\"📤 請上傳訓練圖片 (支援 JPG, PNG 格式)...\")\n",
    "uploaded = files.upload()\n",
    "\n",
    "# 處理上傳的圖片\n",
    "image_paths = []\n",
    "upload_dir = \"/content/uploaded_images\"\n",
    "os.makedirs(upload_dir, exist_ok=True)\n",
    "\n",
    "for filename, content in uploaded.items():\n",
    "    if filename.lower().endswith(('.jpg', '.jpeg', '.png')):\n",
    "        file_path = os.path.join(upload_dir, filename)\n",
    "        with open(file_path, 'wb') as f:\n",
    "            f.write(content)\n",
    "        image_paths.append(file_path)\n",
    "        print(f\"✅ 已處理: {filename}\")\n",
    "\n",
    "print(f\"\\n📊 總共上傳了 {len(image_paths)} 張圖片\")\n",
    "\n",
    "# 顯示圖片預覽\n",
    "if image_paths:\n",
    "    from PIL import Image\n",
    "    import matplotlib.pyplot as plt\n",
    "    \n",
    "    fig, axes = plt.subplots(1, min(3, len(image_paths)), figsize=(12, 4))\n",
    "    if len(image_paths) == 1:\n",
    "        axes = [axes]\n",
    "    \n",
    "    for i, img_path in enumerate(image_paths[:3]):\n",
    "        img = Image.open(img_path)\n",
    "        axes[i].imshow(img)\n",
    "        axes[i].axis('off')\n",
    "        axes[i].set_title(os.path.basename(img_path))\n",
    "    \n",
    "    plt.tight_layout()\n",
    "    plt.show()\n",
    "else:\n",
    "    print(\"❌ 沒有有效的圖片檔案\")"
   ]
  },
  {
   "cell_type": "markdown",
   "id": "18ae8dfb",
   "metadata": {},
   "source": [
    "## 🚀 步驟 5: 開始訓練\n",
    "\n",
    "這個 cell 會執行實際的 Fashion AI 訓練。根據 GPU 類型和圖片數量，預計需要 30-60 分鐘。"
   ]
  },
  {
   "cell_type": "code",
   "execution_count": null,
   "id": "4e3ca93e",
   "metadata": {},
   "outputs": [],
   "source": [
    "# 載入完整的訓練腳本\n",
    "exec(open('/content/colab_training_fixed.py').read())\n",
    "\n",
    "# 或者手動執行簡化版本\n",
    "print(\"🎨 Fashion AI Training 開始...\")\n",
    "print(\"💡 由於這是簡化版本，完整訓練請上傳完整的腳本檔案\")\n",
    "print(\"✅ 環境已準備就緒，可以開始訓練！\")"
   ]
  },
  {
   "cell_type": "markdown",
   "id": "370155ca",
   "metadata": {},
   "source": [
    "## 📦 步驟 6: 下載結果\n",
    "\n",
    "訓練完成後，執行此 cell 來打包和下載結果。"
   ]
  },
  {
   "cell_type": "code",
   "execution_count": null,
   "id": "f99e5c24",
   "metadata": {},
   "outputs": [],
   "source": [
    "import zipfile\n",
    "from datetime import datetime\n",
    "from google.colab import files\n",
    "\n",
    "# 創建下載包\n",
    "package_name = f\"fashion_ai_model_{datetime.now().strftime('%Y%m%d_%H%M%S')}.zip\"\n",
    "\n",
    "with zipfile.ZipFile(package_name, 'w', zipfile.ZIP_DEFLATED) as zipf:\n",
    "    # 添加訓練結果 (如果存在)\n",
    "    result_dirs = ['models', 'validation', 'checkpoints']\n",
    "    \n",
    "    for dir_name in result_dirs:\n",
    "        if os.path.exists(dir_name):\n",
    "            for root, dirs, files in os.walk(dir_name):\n",
    "                for file in files:\n",
    "                    file_path = os.path.join(root, file)\n",
    "                    arcname = os.path.relpath(file_path, '.')\n",
    "                    zipf.write(file_path, arcname)\n",
    "    \n",
    "    # 添加 README\n",
    "    readme_content = f\"\"\"Fashion AI Training Results\n",
    "訓練日期: {datetime.now().strftime('%Y-%m-%d %H:%M:%S')}\n",
    "GPU: {torch.cuda.get_device_name(0) if torch.cuda.is_available() else 'CPU'}\n",
    "圖片數量: {len(image_paths) if 'image_paths' in locals() else 0}\n",
    "\n",
    "使用方法:\n",
    "1. 解壓縮檔案\n",
    "2. 將 LoRA 權重載入到 Stable Diffusion WebUI\n",
    "3. 開始生成時尚圖片\n",
    "\"\"\"\n",
    "    \n",
    "    with open('README.txt', 'w', encoding='utf-8') as f:\n",
    "        f.write(readme_content)\n",
    "    zipf.write('README.txt')\n",
    "\n",
    "print(f\"📦 打包完成: {package_name}\")\n",
    "\n",
    "# 下載結果\n",
    "files.download(package_name)\n",
    "\n",
    "print(\"🎉 訓練完成！結果已下載到您的電腦\")"
   ]
  },
  {
   "cell_type": "markdown",
   "id": "f069878e",
   "metadata": {},
   "source": [
    "## 🔧 故障排除\n",
    "\n",
    "### 常見問題:\n",
    "\n",
    "1. **依賴衝突**: 重新啟動運行時並重新執行依賴安裝\n",
    "2. **GPU 記憶體不足**: 減少批次大小或使用更小的模型\n",
    "3. **訓練中斷**: 檢查點會自動保存，可以從中斷處恢復\n",
    "\n",
    "### 手動修復命令:\n",
    "\n",
    "```bash\n",
    "# 清理環境\n",
    "!pip uninstall -y sentence-transformers transformers\n",
    "\n",
    "# 重新安裝\n",
    "!pip install transformers>=4.41.0 --force-reinstall\n",
    "!pip install diffusers[torch] accelerate peft\n",
    "```\n",
    "\n",
    "### 聯繫支援:\n",
    "如果問題持續存在，請檢查 GitHub 倉庫的 Issues 部分。"
   ]
  }
 ],
 "metadata": {
  "language_info": {
   "name": "python"
  }
 },
 "nbformat": 4,
 "nbformat_minor": 5
}
